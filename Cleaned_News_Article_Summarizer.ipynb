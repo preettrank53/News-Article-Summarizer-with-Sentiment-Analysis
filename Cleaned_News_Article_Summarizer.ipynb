{
 "cells": [
  {
   "cell_type": "code",
   "execution_count": 6,
   "metadata": {
    "colab": {
     "base_uri": "https://localhost:8080/"
    },
    "id": "ldDUdNfN-itI",
    "outputId": "599e9c7a-4a40-4788-f1a8-8930d3e3d996"
   },
   "outputs": [
    {
     "name": "stdout",
     "output_type": "stream",
     "text": [
      "Requirement already satisfied: textblob in /usr/local/lib/python3.11/dist-packages (0.19.0)\n",
      "Requirement already satisfied: nltk>=3.9 in /usr/local/lib/python3.11/dist-packages (from textblob) (3.9.1)\n",
      "Requirement already satisfied: click in /usr/local/lib/python3.11/dist-packages (from nltk>=3.9->textblob) (8.2.1)\n",
      "Requirement already satisfied: joblib in /usr/local/lib/python3.11/dist-packages (from nltk>=3.9->textblob) (1.5.1)\n",
      "Requirement already satisfied: regex>=2021.8.3 in /usr/local/lib/python3.11/dist-packages (from nltk>=3.9->textblob) (2024.11.6)\n",
      "Requirement already satisfied: tqdm in /usr/local/lib/python3.11/dist-packages (from nltk>=3.9->textblob) (4.67.1)\n",
      "Collecting newspaper3k\n",
      "  Downloading newspaper3k-0.2.8-py3-none-any.whl.metadata (11 kB)\n",
      "Requirement already satisfied: beautifulsoup4>=4.4.1 in /usr/local/lib/python3.11/dist-packages (from newspaper3k) (4.13.4)\n",
      "Requirement already satisfied: Pillow>=3.3.0 in /usr/local/lib/python3.11/dist-packages (from newspaper3k) (11.2.1)\n",
      "Requirement already satisfied: PyYAML>=3.11 in /usr/local/lib/python3.11/dist-packages (from newspaper3k) (6.0.2)\n",
      "Collecting cssselect>=0.9.2 (from newspaper3k)\n",
      "  Downloading cssselect-1.3.0-py3-none-any.whl.metadata (2.6 kB)\n",
      "Requirement already satisfied: lxml>=3.6.0 in /usr/local/lib/python3.11/dist-packages (from newspaper3k) (5.4.0)\n",
      "Requirement already satisfied: nltk>=3.2.1 in /usr/local/lib/python3.11/dist-packages (from newspaper3k) (3.9.1)\n",
      "Requirement already satisfied: requests>=2.10.0 in /usr/local/lib/python3.11/dist-packages (from newspaper3k) (2.32.3)\n",
      "Collecting feedparser>=5.2.1 (from newspaper3k)\n",
      "  Downloading feedparser-6.0.11-py3-none-any.whl.metadata (2.4 kB)\n",
      "Collecting tldextract>=2.0.1 (from newspaper3k)\n",
      "  Downloading tldextract-5.3.0-py3-none-any.whl.metadata (11 kB)\n",
      "Collecting feedfinder2>=0.0.4 (from newspaper3k)\n",
      "  Downloading feedfinder2-0.0.4.tar.gz (3.3 kB)\n",
      "  Preparing metadata (setup.py) ... \u001b[?25l\u001b[?25hdone\n",
      "Collecting jieba3k>=0.35.1 (from newspaper3k)\n",
      "  Downloading jieba3k-0.35.1.zip (7.4 MB)\n",
      "\u001b[2K     \u001b[90m━━━━━━━━━━━━━━━━━━━━━━━━━━━━━━━━━━━━━━━━\u001b[0m \u001b[32m7.4/7.4 MB\u001b[0m \u001b[31m62.7 MB/s\u001b[0m eta \u001b[36m0:00:00\u001b[0m\n",
      "\u001b[?25h  Preparing metadata (setup.py) ... \u001b[?25l\u001b[?25hdone\n",
      "Requirement already satisfied: python-dateutil>=2.5.3 in /usr/local/lib/python3.11/dist-packages (from newspaper3k) (2.9.0.post0)\n",
      "Collecting tinysegmenter==0.3 (from newspaper3k)\n",
      "  Downloading tinysegmenter-0.3.tar.gz (16 kB)\n",
      "  Preparing metadata (setup.py) ... \u001b[?25l\u001b[?25hdone\n",
      "Requirement already satisfied: soupsieve>1.2 in /usr/local/lib/python3.11/dist-packages (from beautifulsoup4>=4.4.1->newspaper3k) (2.7)\n",
      "Requirement already satisfied: typing-extensions>=4.0.0 in /usr/local/lib/python3.11/dist-packages (from beautifulsoup4>=4.4.1->newspaper3k) (4.14.0)\n",
      "Requirement already satisfied: six in /usr/local/lib/python3.11/dist-packages (from feedfinder2>=0.0.4->newspaper3k) (1.17.0)\n",
      "Collecting sgmllib3k (from feedparser>=5.2.1->newspaper3k)\n",
      "  Downloading sgmllib3k-1.0.0.tar.gz (5.8 kB)\n",
      "  Preparing metadata (setup.py) ... \u001b[?25l\u001b[?25hdone\n",
      "Requirement already satisfied: click in /usr/local/lib/python3.11/dist-packages (from nltk>=3.2.1->newspaper3k) (8.2.1)\n",
      "Requirement already satisfied: joblib in /usr/local/lib/python3.11/dist-packages (from nltk>=3.2.1->newspaper3k) (1.5.1)\n",
      "Requirement already satisfied: regex>=2021.8.3 in /usr/local/lib/python3.11/dist-packages (from nltk>=3.2.1->newspaper3k) (2024.11.6)\n",
      "Requirement already satisfied: tqdm in /usr/local/lib/python3.11/dist-packages (from nltk>=3.2.1->newspaper3k) (4.67.1)\n",
      "Requirement already satisfied: charset-normalizer<4,>=2 in /usr/local/lib/python3.11/dist-packages (from requests>=2.10.0->newspaper3k) (3.4.2)\n",
      "Requirement already satisfied: idna<4,>=2.5 in /usr/local/lib/python3.11/dist-packages (from requests>=2.10.0->newspaper3k) (3.10)\n",
      "Requirement already satisfied: urllib3<3,>=1.21.1 in /usr/local/lib/python3.11/dist-packages (from requests>=2.10.0->newspaper3k) (2.4.0)\n",
      "Requirement already satisfied: certifi>=2017.4.17 in /usr/local/lib/python3.11/dist-packages (from requests>=2.10.0->newspaper3k) (2025.6.15)\n",
      "Collecting requests-file>=1.4 (from tldextract>=2.0.1->newspaper3k)\n",
      "  Downloading requests_file-2.1.0-py2.py3-none-any.whl.metadata (1.7 kB)\n",
      "Requirement already satisfied: filelock>=3.0.8 in /usr/local/lib/python3.11/dist-packages (from tldextract>=2.0.1->newspaper3k) (3.18.0)\n",
      "Downloading newspaper3k-0.2.8-py3-none-any.whl (211 kB)\n",
      "\u001b[2K   \u001b[90m━━━━━━━━━━━━━━━━━━━━━━━━━━━━━━━━━━━━━━━━\u001b[0m \u001b[32m211.1/211.1 kB\u001b[0m \u001b[31m15.4 MB/s\u001b[0m eta \u001b[36m0:00:00\u001b[0m\n",
      "\u001b[?25hDownloading cssselect-1.3.0-py3-none-any.whl (18 kB)\n",
      "Downloading feedparser-6.0.11-py3-none-any.whl (81 kB)\n",
      "\u001b[2K   \u001b[90m━━━━━━━━━━━━━━━━━━━━━━━━━━━━━━━━━━━━━━━━\u001b[0m \u001b[32m81.3/81.3 kB\u001b[0m \u001b[31m6.0 MB/s\u001b[0m eta \u001b[36m0:00:00\u001b[0m\n",
      "\u001b[?25hDownloading tldextract-5.3.0-py3-none-any.whl (107 kB)\n",
      "\u001b[2K   \u001b[90m━━━━━━━━━━━━━━━━━━━━━━━━━━━━━━━━━━━━━━━━\u001b[0m \u001b[32m107.4/107.4 kB\u001b[0m \u001b[31m7.6 MB/s\u001b[0m eta \u001b[36m0:00:00\u001b[0m\n",
      "\u001b[?25hDownloading requests_file-2.1.0-py2.py3-none-any.whl (4.2 kB)\n",
      "Building wheels for collected packages: tinysegmenter, feedfinder2, jieba3k, sgmllib3k\n",
      "  Building wheel for tinysegmenter (setup.py) ... \u001b[?25l\u001b[?25hdone\n",
      "  Created wheel for tinysegmenter: filename=tinysegmenter-0.3-py3-none-any.whl size=13540 sha256=d6c0fe9a83a07ab8392c0d1e72e92e1fec205e5ba0b86559eb166e870b555a37\n",
      "  Stored in directory: /root/.cache/pip/wheels/fc/ab/f8/cce3a9ae6d828bd346be695f7ff54612cd22b7cbd7208d68f3\n",
      "  Building wheel for feedfinder2 (setup.py) ... \u001b[?25l\u001b[?25hdone\n",
      "  Created wheel for feedfinder2: filename=feedfinder2-0.0.4-py3-none-any.whl size=3341 sha256=623e7253ecf8a3aa4a4f6d6f22df14ddbbc82e20e2922ddedc093704e070bf80\n",
      "  Stored in directory: /root/.cache/pip/wheels/80/d5/72/9cd9eccc819636436c6a6e59c22a0fb1ec167beef141f56491\n",
      "  Building wheel for jieba3k (setup.py) ... \u001b[?25l\u001b[?25hdone\n",
      "  Created wheel for jieba3k: filename=jieba3k-0.35.1-py3-none-any.whl size=7398380 sha256=f017bd52e694b2763393dca8521f71ca69ff1327298b59eacded15a09991394b\n",
      "  Stored in directory: /root/.cache/pip/wheels/3a/a1/46/8e68055c1713f9c4598774c15ad0541f26d5425ee7423b6493\n",
      "  Building wheel for sgmllib3k (setup.py) ... \u001b[?25l\u001b[?25hdone\n",
      "  Created wheel for sgmllib3k: filename=sgmllib3k-1.0.0-py3-none-any.whl size=6046 sha256=baa0dd528845f2a6436daf52edd25c6b95ab00cd531430d8ce02f5fca44dbbc2\n",
      "  Stored in directory: /root/.cache/pip/wheels/3b/25/2a/105d6a15df6914f4d15047691c6c28f9052cc1173e40285d03\n",
      "Successfully built tinysegmenter feedfinder2 jieba3k sgmllib3k\n",
      "Installing collected packages: tinysegmenter, sgmllib3k, jieba3k, feedparser, cssselect, requests-file, feedfinder2, tldextract, newspaper3k\n",
      "Successfully installed cssselect-1.3.0 feedfinder2-0.0.4 feedparser-6.0.11 jieba3k-0.35.1 newspaper3k-0.2.8 requests-file-2.1.0 sgmllib3k-1.0.0 tinysegmenter-0.3 tldextract-5.3.0\n"
     ]
    }
   ],
   "source": [
    "!pip install textblob\n",
    "!pip install newspaper3k\n",
    "\n",
    "import nltk\n",
    "from textblob import TextBlob"
   ]
  },
  {
   "cell_type": "code",
   "execution_count": 10,
   "metadata": {
    "id": "QGZRZeoY-wjk"
   },
   "outputs": [],
   "source": [
    "from newspaper import Article"
   ]
  },
  {
   "cell_type": "code",
   "execution_count": 11,
   "metadata": {
    "id": "tQRXrWPK-33Z"
   },
   "outputs": [],
   "source": [
    "url = 'https://indianexpress.com/article/india/dragon-with-shukla-3-others-to-dock-with-iss-at-4-30-pm-today-10088795/'\n",
    "article = Article(url)\n"
   ]
  },
  {
   "cell_type": "code",
   "execution_count": 9,
   "metadata": {
    "colab": {
     "base_uri": "https://localhost:8080/"
    },
    "id": "db78e066",
    "outputId": "d5864833-6911-417f-8bbd-8d6fea1e38da"
   },
   "outputs": [
    {
     "name": "stdout",
     "output_type": "stream",
     "text": [
      "Requirement already satisfied: lxml[html_clean] in /usr/local/lib/python3.11/dist-packages (5.4.0)\n",
      "Collecting lxml_html_clean (from lxml[html_clean])\n",
      "  Downloading lxml_html_clean-0.4.2-py3-none-any.whl.metadata (2.4 kB)\n",
      "Downloading lxml_html_clean-0.4.2-py3-none-any.whl (14 kB)\n",
      "Installing collected packages: lxml_html_clean\n",
      "Successfully installed lxml_html_clean-0.4.2\n"
     ]
    }
   ],
   "source": [
    "!pip install lxml[html_clean]"
   ]
  },
  {
   "cell_type": "code",
   "execution_count": 12,
   "metadata": {
    "colab": {
     "base_uri": "https://localhost:8080/"
    },
    "id": "6WSBMJ8V_poz",
    "outputId": "52056128-1cee-447d-bf22-ddaaf698176c"
   },
   "outputs": [
    {
     "name": "stderr",
     "output_type": "stream",
     "text": [
      "[nltk_data] Downloading package punkt to /root/nltk_data...\n",
      "[nltk_data]   Unzipping tokenizers/punkt.zip.\n",
      "[nltk_data] Downloading package punkt_tab to /root/nltk_data...\n",
      "[nltk_data]   Unzipping tokenizers/punkt_tab.zip.\n"
     ]
    }
   ],
   "source": [
    "article.download()\n",
    "article.parse()\n",
    "nltk.download('punkt')\n",
    "nltk.download('punkt_tab')\n",
    "article.nlp()"
   ]
  },
  {
   "cell_type": "code",
   "execution_count": 13,
   "metadata": {
    "colab": {
     "base_uri": "https://localhost:8080/"
    },
    "id": "LjhHQHlIABUt",
    "outputId": "f81f6976-ff89-43f1-b483-b2e9d91e07ed"
   },
   "outputs": [
    {
     "name": "stdout",
     "output_type": "stream",
     "text": [
      "Title : Dragon with Shukla, 3 others to dock with ISS at 4.30 pm today\n",
      "author : ['Amitabh Sinha', 'Anonna Dutt Is A Principal Correspondent Who Writes Primarily On Health At The Indian Express. She Reports On Myriad Topics Ranging The Growing Burden Of Non-Communicable Diseases Such As Diabetes', 'Hypertension To The Problems With Pervasive Infectious Conditions. She Reported On The Government S Management Of The Pandemic', 'Closely Followed The Vaccination Programme.', 'Her Stories Have Resulted In The City Government Investing In High-End Tests For The Poor', 'Acknowledging Errors In Their Official Reports.', 'Dutt Also Takes A Keen Interest In The Country S Space Programme', 'Has Written On Key Missions Like Chandrayaan', 'Aditya', 'Gaganyaan.']\n",
      "publish_date : 2025-06-26 16:46:37+05:30\n",
      "text : Group Captain Shubhanshu Shukla embarked on the most consequential flight of his life Wednesday, taking off, along with three others, in the Axiom-4 mission to the International Space Station. This makes him only the second Indian to travel to space.\n",
      "\n",
      "A fighter pilot and test pilot with the Indian Air Force, with more than 2,000 hours of flying experience, Shukla is the designated pilot for the Crew Dragon spacecraft that took off from NASA’s Kennedy Space Center in Cape Canaveral, Florida exactly at noon India time.\n",
      "\n",
      "After a 28-hour journey through space, the Dragon spacecraft will dock with the International Space Station around 4.30 pm India time Thursday, allowing the four astronauts to transfer to the only permanent research laboratory in space where they will spend the next two weeks, carrying out scientific experiments and engaging in science outreach events.\n",
      "\n",
      "Story continues below this ad\n",
      "\n",
      "Axiom-4 Mission | Follow Live Updates\n",
      "\n",
      "Shukla’s feat comes 41 years after Squadron Leader Rakesh Sharma — he later retired as Wing Commander — travelled to space on the then Soviet Union’s Soyuz T-11 spacecraft and spent about eight days on board the Salyut 7 space station, one of the Soviet forerunners to the current International Space Station.\n",
      "\n",
      "Two other astronauts on the Axiom-4 mission, Slawosz Uznanski-Wisniewski from Poland and Tibor Kapu of Hungary, are also marking the return of their respective countries to space after more than four decades. For this reason, the mission has been given the theme ‘Realize the Return’. The fourth astronaut, and commander of the mission, Peggy Whitson is a veteran of space travel, having made four earlier trips, with a record 675 days in space.\n",
      "\n",
      "“What a ride. After 40 years, we are back in space. What a flight this is,” said Shukla in a short statement, 10 minutes after the launch, immediately after the spacecraft had separated from the rocket and entered an orbit around the Earth.\n",
      "\n",
      "SpaceX Falcon 9 rocket with the Crew Dragon capsule carrying Indian astronaut Shubhanshu Shukla and three others lifts off from the launch pad at the Kennedy Space Centre, in Florida, USA. (@SpaceX via PTI Photo) SpaceX Falcon 9 rocket with the Crew Dragon capsule carrying Indian astronaut Shubhanshu Shukla and three others lifts off from the launch pad at the Kennedy Space Centre, in Florida, USA. (@SpaceX via PTI Photo)\n",
      "\n",
      "“Right now, we are going around the Earth at the speed of 7.5 km a second. On my shoulders is the Tiranga (Tricolour) that is telling me that I am not alone here, all of you are with me. This journey to the International Space Station is not my alone, this is the beginning of Bharat’s human spaceflight programme,” Shukla said, addressing his countrymen in Hindi.\n",
      "\n",
      "Story continues below this ad\n",
      "\n",
      "“I would like each one of you to become a part of this journey. You should also feel proud, you should also feel the excitement. Come, let us together mark the beginning of India’s human spaceflight programme. Thank you. Jai Hind. Jai Bharat,” he said. Other astronauts also made similar statements.\n",
      "\n",
      "Prime Minister Narendra Modi, in a post on X after the liftoff, said, “We welcome the successful launch of the Space Mission carrying astronauts from India, Hungary, Poland and the US. The Indian Astronaut, Group Captain Shubhanshu Shukla is on the way to become the first Indian to go to the International Space Station. He carries with him the wishes, hopes and aspirations of 1.4 billion Indians. Wish him and other astronauts all the success!”\n",
      "\n",
      "The Axiom-4 mission, originally scheduled to launch in May, faced multiple delays because of weather and technical problems. A small uncertainty hung over the launch Wednesday as well, even after the astronauts had entered the capsule, as some updated data took time to get uploaded to the spacecraft’s software. Shukla was seen shuffling and shaking his legs as he waited, and exulted mildly when the all-clear was announced.\n",
      "\n",
      "ISRO chairman V Narayanan who, along with a ISRO team, had been in the US since the start of this month for the launch, said he was extremely happy that the mission had finally launched after all technical problems had been addressed.\n",
      "\n",
      "Story continues below this ad\n",
      "\n",
      "“Today, we were 100% sure about the safety of not just our own astronaut Shubhanshu Shukla, but the other three brothers and sister who are going to space with him. Congratulations to all,” Narayanan told The Indian Express from the US.\n",
      "\n",
      "He said that he personally, and the team from ISRO, had been involved in the troubleshooting exercises, and had made sure that everything was fine ahead of the launch. “If I had even 0.1% doubt, I would not have said OK to the launch,” he said.\n",
      "\n",
      "Narayanan said the spacecraft had entered a 200-km orbit, which will be raised to about 425 km over the 28-hour period before the docking takes place. The ISRO team would be travelling from the Florida launch centre to Houston, Texas to witness the docking from the command centre.\n",
      "\n",
      "Shukla was among four IAF pilots selected for the Gaganyaan programme, ISRO’s maiden attempt at sending humans into space. The first human spaceflight mission under this programme was originally scheduled for 2022 to coincide with 75 years of India’s independence. But the programme has faced delays, and it is now expected to take place in 2027.\n",
      "\n",
      "Story continues below this ad\n",
      "\n",
      "In the meanwhile, a new collaboration between ISRO and NASA in 2023 opened the opportunity for an Indian to travel on a private mission facilitated by NASA. This is how Shukla’s participation in the Axiom-4 mission came about.\n",
      "\n",
      "The liftoff was greeted with loud cheers and clapping at the auditorium of the CSIR headquarters in New Delhi where Science Minister Jitendra Singh and many scientists and dignitaries, including Australian High Commissioner to India Philip Green, had gathered to watch the launch on video.\n",
      "\n",
      "“This was destined to happen under the leadership of Prime Minister Modi. And I am saying so because the space reforms which happened a couple of years ago have given a quantum leap to India’s endeavours. Imagine, ISRO was set up in the year 1969, when NASA accomplished the landing of the first human on the Moon. Today, we have landed near the southern pole of the Moon before anyone else. And we are now collaborating with NASA as an equal partner. India is no longer a follower,” Singh said.\n",
      "\n",
      "The Axiom-4 mission is being operated and managed by Axiom Space, a private US space company. The Falcon 9 rocket and the Dragon spacecraft used in the mission have come from SpaceX, the world’s largest private space corporation. NASA offered access to its facilities, including the International Space Station, and training to the astronauts.\n",
      "summury : Group Captain Shubhanshu Shukla embarked on the most consequential flight of his life Wednesday, taking off, along with three others, in the Axiom-4 mission to the International Space Station.\n",
      "SpaceX Falcon 9 rocket with the Crew Dragon capsule carrying Indian astronaut Shubhanshu Shukla and three others lifts off from the launch pad at the Kennedy Space Centre, in Florida, USA.\n",
      "This journey to the International Space Station is not my alone, this is the beginning of Bharat’s human spaceflight programme,” Shukla said, addressing his countrymen in Hindi.\n",
      "The Indian Astronaut, Group Captain Shubhanshu Shukla is on the way to become the first Indian to go to the International Space Station.\n",
      "NASA offered access to its facilities, including the International Space Station, and training to the astronauts.\n"
     ]
    }
   ],
   "source": [
    "print(f'Title : {article.title}')\n",
    "print(f'author : {article.authors}')\n",
    "print(f'publish_date : {article.publish_date}')\n",
    "print(f'text : {article.text}')\n",
    "print(f'summury : {article.summary}')"
   ]
  },
  {
   "cell_type": "code",
   "execution_count": null,
   "metadata": {
    "id": "PcH7l9qfA4Ge"
   },
   "outputs": [],
   "source": [
    "!pip install transformers torch\n"
   ]
  },
  {
   "cell_type": "code",
   "execution_count": 3,
   "metadata": {
    "id": "HrUHmwGUF518"
   },
   "outputs": [],
   "source": [
    "from transformers import BartForConditionalGeneration, BartTokenizer"
   ]
  },
  {
   "cell_type": "code",
   "execution_count": 4,
   "metadata": {
    "colab": {
     "base_uri": "https://localhost:8080/",
     "height": 333,
     "referenced_widgets": [
      "fe90f9d97a284f28a655363f470343ee",
      "d287ed1654f74d778b26d4c0ba65fb38",
      "a1a443cdbc5d488d9c78521127c3a954",
      "034ea8977aa04810a5e66d20cf5ca0bd",
      "7af3cbb1b0374ddab33ebfc8da7a9132",
      "1eee5f49bbee47068dcf4f8f178cba20",
      "4a911e1cc5d24835a4c0452e2360e2ff",
      "9342a074c2b84a96b305f570b3e2247a",
      "525b0d00db574d70943654a54d0b139a",
      "fc4f526bdd4846a087d44f85106fd2bc",
      "da7e054f407e426b96f417af8a79b91c",
      "79e8571003bb482fbf26ee9f8a318d41",
      "bfc38bb7020d495ebde4ec1ec318da8e",
      "482ec5237e5f4756a2e25d636f9ebe16",
      "ffefa14519cc463a8936db79308ab3f7",
      "054082b3d8224034a8454893c3db49d3",
      "e0afff890baa479d8401b3022ae29661",
      "71dd402786ca4020817d48366ab84326",
      "f8f44c1d55324fcda672fad06e1359fa",
      "2f0699a94f44403481b785760c8ec6d7",
      "f42c515fdea847769090ea1a29208ed2",
      "a629951f633642ce95df78c0c148b721",
      "6195a69e1bf24044882999b65e6b2c51",
      "2daeeca8de284149b887003fca7701a2",
      "f9e848ed590944fda3ad816a5675e12f",
      "53e5220a357b44c7b030100a4b939153",
      "d6c1cad997294b47be138ebf75ddadf2",
      "81e79fb7d0564ab6bbf5817fa496c30b",
      "d0fb1dde7a814bc1add704b2a00617c3",
      "46e6a16c87e741b9a1a6f50eaf638145",
      "f0f712bdd82149d9846e7df89b66ec8e",
      "bb3ebfe2a4ec4c38901c35a10ca6b991",
      "a9418871a31349ac809beef8b72e7125",
      "a8b1d1b1d5d7456bbb576ba6fb21a1c2",
      "6e88b1f3441e498681844cedb0098639",
      "3b47bd1b28fb4deab37b86d57008142e",
      "259905485ab44c3db9701d7521e756e4",
      "76a50cde2ba143a1b1c0d07bd8da8c89",
      "8d6d57fafa5e4c3bb20983b39be04223",
      "aad176ef82e648b1b96fd8cb6835e966",
      "4534973d61b44d0ab00c2988890a1c31",
      "9445c31e07aa4665a32eb8c6ffcf04f8",
      "e5b8497ec7a8424eb7eb217b0b87b4e8",
      "e472cc107c6747ad97d9559e123c19b8",
      "bc2a2ca0fc0d43f3afe53ff7fea1f1bc",
      "e0a1c5f5272840f7a3d71b0077a9519b",
      "2d65962fde594321bce56182f7c3f1b6",
      "d0ebb36e2315445185812c7851fb10dd",
      "ff58faa713584fb0be86b8e5ed49448c",
      "c885db316ca24694b5e03a2a948a27e8",
      "ca8007c6a7b74b0e87a09e48fe6bb919",
      "054c60ee54cd43e98f2b6056bd6cee60",
      "fe8241024d204c1fb71097db15bf74dc",
      "2992363bf5d84b9499c27a4080079e11",
      "d365eddde20b4b70810f5eb0d9e0c0a7",
      "66522d957a8d45b6978d85ff8dc93869",
      "8a175d30b76242b2a6ec864a60bc5fed",
      "6013ed880bd84833ae33bd9cd8878d99",
      "cda1db1a716442e8b0cdce3ffd4e747c",
      "58eb480a17fc4003957a36e4ef3d9b66",
      "ecc0873cd2814551b373440ca95191c2",
      "e3399affd366444f9cbcff9b09b16ebf",
      "ab1efe2b1f664165b9f31c0d6f33d28f",
      "9b9db0239a76481996d6354cc751ae3a",
      "33cf371d00df44f2a7c94de4fb010b04",
      "e1819aae61924f59bd77160572b138df"
     ]
    },
    "id": "ZM4b_OWMJx7d",
    "outputId": "96c0c5dc-1988-4e59-c4d6-b096d2f0f83d"
   },
   "outputs": [
    {
     "name": "stderr",
     "output_type": "stream",
     "text": [
      "/usr/local/lib/python3.11/dist-packages/huggingface_hub/utils/_auth.py:94: UserWarning: \n",
      "The secret `HF_TOKEN` does not exist in your Colab secrets.\n",
      "To authenticate with the Hugging Face Hub, create a token in your settings tab (https://huggingface.co/settings/tokens), set it as secret in your Google Colab and restart your session.\n",
      "You will be able to reuse this secret in all of your notebooks.\n",
      "Please note that authentication is recommended but still optional to access public models or datasets.\n",
      "  warnings.warn(\n"
     ]
    },
    {
     "data": {
      "application/vnd.jupyter.widget-view+json": {
       "model_id": "fe90f9d97a284f28a655363f470343ee",
       "version_major": 2,
       "version_minor": 0
      },
      "text/plain": [
       "vocab.json: 0.00B [00:00, ?B/s]"
      ]
     },
     "metadata": {},
     "output_type": "display_data"
    },
    {
     "data": {
      "application/vnd.jupyter.widget-view+json": {
       "model_id": "79e8571003bb482fbf26ee9f8a318d41",
       "version_major": 2,
       "version_minor": 0
      },
      "text/plain": [
       "merges.txt: 0.00B [00:00, ?B/s]"
      ]
     },
     "metadata": {},
     "output_type": "display_data"
    },
    {
     "data": {
      "application/vnd.jupyter.widget-view+json": {
       "model_id": "6195a69e1bf24044882999b65e6b2c51",
       "version_major": 2,
       "version_minor": 0
      },
      "text/plain": [
       "tokenizer.json: 0.00B [00:00, ?B/s]"
      ]
     },
     "metadata": {},
     "output_type": "display_data"
    },
    {
     "data": {
      "application/vnd.jupyter.widget-view+json": {
       "model_id": "a8b1d1b1d5d7456bbb576ba6fb21a1c2",
       "version_major": 2,
       "version_minor": 0
      },
      "text/plain": [
       "config.json: 0.00B [00:00, ?B/s]"
      ]
     },
     "metadata": {},
     "output_type": "display_data"
    },
    {
     "data": {
      "application/vnd.jupyter.widget-view+json": {
       "model_id": "bc2a2ca0fc0d43f3afe53ff7fea1f1bc",
       "version_major": 2,
       "version_minor": 0
      },
      "text/plain": [
       "model.safetensors:   0%|          | 0.00/1.63G [00:00<?, ?B/s]"
      ]
     },
     "metadata": {},
     "output_type": "display_data"
    },
    {
     "data": {
      "application/vnd.jupyter.widget-view+json": {
       "model_id": "66522d957a8d45b6978d85ff8dc93869",
       "version_major": 2,
       "version_minor": 0
      },
      "text/plain": [
       "generation_config.json:   0%|          | 0.00/363 [00:00<?, ?B/s]"
      ]
     },
     "metadata": {},
     "output_type": "display_data"
    }
   ],
   "source": [
    "model_name = \"facebook/bart-large-cnn\"\n",
    "tokenizer = BartTokenizer.from_pretrained(model_name)\n",
    "model = BartForConditionalGeneration.from_pretrained(model_name)"
   ]
  },
  {
   "cell_type": "code",
   "execution_count": 14,
   "metadata": {
    "id": "jdswzitVJ--C"
   },
   "outputs": [],
   "source": [
    "text = article.text\n",
    "# Turn text into numbers the model can understand\n",
    "inputs = tokenizer(text, return_tensors=\"pt\", max_length=1024, truncation=True)\n",
    "\n",
    "# Let the model generate summary tokens (words)\n",
    "summary_ids = model.generate(\n",
    "    inputs.input_ids,\n",
    "    max_length=150,   # don't go over 150 words\n",
    "    min_length=20,    # generate at least 20 words\n",
    "    num_beams=4,      # try 4 different options, choose best\n",
    "    early_stopping=True  # stop if it's done early\n",
    ")\n",
    "\n",
    "# Convert the model's output back to human-readable text\n",
    "summary = tokenizer.decode(summary_ids[0], skip_special_tokens=True)\n"
   ]
  },
  {
   "cell_type": "code",
   "execution_count": 29,
   "metadata": {
    "colab": {
     "base_uri": "https://localhost:8080/",
     "height": 53
    },
    "id": "Vz8tJ0niLj8-",
    "outputId": "0ae1b212-d886-487e-d3f7-4f5c1c167f7a"
   },
   "outputs": [
    {
     "data": {
      "application/vnd.google.colaboratory.intrinsic+json": {
       "type": "string"
      },
      "text/plain": [
       "'Shubhanshu Shukla is the designated pilot for the Axiom-4 mission to the International Space Station. Shukla was seen shuffling and shaking his legs as he waited, and exulted mildly.'"
      ]
     },
     "execution_count": 29,
     "metadata": {},
     "output_type": "execute_result"
    }
   ],
   "source": [
    "summary"
   ]
  },
  {
   "cell_type": "code",
   "execution_count": 16,
   "metadata": {
    "colab": {
     "base_uri": "https://localhost:8080/",
     "height": 105
    },
    "id": "X5_W1V3gLyNa",
    "outputId": "def90996-33e8-491e-b8ac-5594d0a12236"
   },
   "outputs": [
    {
     "data": {
      "application/vnd.google.colaboratory.intrinsic+json": {
       "type": "string"
      },
      "text/plain": [
       "'Group Captain Shubhanshu Shukla embarked on the most consequential flight of his life Wednesday, taking off, along with three others, in the Axiom-4 mission to the International Space Station.\\nSpaceX Falcon 9 rocket with the Crew Dragon capsule carrying Indian astronaut Shubhanshu Shukla and three others lifts off from the launch pad at the Kennedy Space Centre, in Florida, USA.\\nThis journey to the International Space Station is not my alone, this is the beginning of Bharat’s human spaceflight programme,” Shukla said, addressing his countrymen in Hindi.\\nThe Indian Astronaut, Group Captain Shubhanshu Shukla is on the way to become the first Indian to go to the International Space Station.\\nNASA offered access to its facilities, including the International Space Station, and training to the astronauts.'"
      ]
     },
     "execution_count": 16,
     "metadata": {},
     "output_type": "execute_result"
    }
   ],
   "source": [
    "article.summary"
   ]
  },
  {
   "cell_type": "code",
   "execution_count": 17,
   "metadata": {
    "colab": {
     "base_uri": "https://localhost:8080/"
    },
    "id": "04_MEu4LL1hH",
    "outputId": "da421813-5f98-46ad-b8f6-b52dc350cc2a"
   },
   "outputs": [
    {
     "data": {
      "text/plain": [
       "tensor([[    2,     0, 25976,  8977,   840,  1792,   298,  1253,  6455,   840,\n",
       "          1350,  2560, 19179,    15,     5,   144, 35990,  2524,     9,    39,\n",
       "           301,   307,     6,   602,   160,     6,   552,    19,   130,   643,\n",
       "             6,    11,     5, 14249, 27074,    12,   306,  2511,     7,     5,\n",
       "          1016,  5374,  5088,     4,   152,   817,   123,   129,     5,   200,\n",
       "          1362,     7,  1504,     7,   980,     4,    83,  7251,  4792,     8,\n",
       "          1296,  4792,    19,     5,  1362,  1754,  3177,     6,    19,    55,\n",
       "            87,   132,     6,   151,   722,     9,  4731,   676,     4,     2]])"
      ]
     },
     "execution_count": 17,
     "metadata": {},
     "output_type": "execute_result"
    }
   ],
   "source": [
    "summary_ids"
   ]
  },
  {
   "cell_type": "code",
   "execution_count": null,
   "metadata": {
    "id": "Fk09UhFrNDNl"
   },
   "outputs": [],
   "source": []
  },
  {
   "cell_type": "markdown",
   "metadata": {
    "id": "tvAHyCqIRWii"
   },
   "source": [
    "# **T5 Summarization with HuggingFace**\n",
    "\n"
   ]
  },
  {
   "cell_type": "code",
   "execution_count": 18,
   "metadata": {
    "id": "PuP2K1C3Rbo3"
   },
   "outputs": [],
   "source": [
    "from transformers import T5Tokenizer, T5ForConditionalGeneration\n"
   ]
  },
  {
   "cell_type": "code",
   "execution_count": 19,
   "metadata": {
    "colab": {
     "base_uri": "https://localhost:8080/",
     "height": 246,
     "referenced_widgets": [
      "2fb69ecc64e2452b9cd5132c2238dfcb",
      "881630eba7ad42e7b1e8b140b01bc162",
      "4f9950be6d7e438589a115876db951f9",
      "a91ecacddb99445ab311cedc03995fa8",
      "56949c51c15841c19490ab12d33413ce",
      "13df4a820ae744a48f83256a5fda28f3",
      "c2e00e20fb7c4431b603627e89ac7bae",
      "c9aae3138f7a4190989378f1e711513a",
      "1c5d404d3f6d41c69920479c82b3b42e",
      "a17d37c4b9824b2eb1b03f46d80f2e8a",
      "2dace9afcab241108df0f113ee756d2b",
      "d28d23cde853460eaaa9c936306d121e",
      "0617413356f742c4af6c4b42ab29a9d8",
      "c0f87d30515e4563aefff222e12d9c38",
      "452bb14879c3435c971d704cc845a0be",
      "684a0193aa0e4893ac68d89c033fd57e",
      "a3015ad749e84e7684ddec8fd315344e",
      "a5c531db23db4386b75d2ba27d9924ed",
      "f4dd127be0f64d47b8f4845d4ef8ab21",
      "8cbcd520290e4c42835409c891f91c5b",
      "39d04948bec94aae8bcfee108f2c8461",
      "d6173b5460f447df94b863a013ff283c",
      "3e93f0403be64883890dd0bd8b64eb7c",
      "8c8ffe5c78de447e95858c027af12122",
      "4bd7e07cde10458ca57bfe558ac4b79c",
      "2a8c0f5ab23b4c81ad6496a92f5778d2",
      "954c641a5f874199bce46e07733a03a6",
      "9a9aa2b9b8b9450d9c77bed33802af0e",
      "8931a42f82c748358f4b80b2316fe043",
      "ea750e848d3b42738ec849c109d8abfe",
      "58278fb9d5b84e338590045b6b3664dd",
      "edc05e21b1e4446382238359575b0b6a",
      "0e60eb525d394e569d2c954e6bfd8508",
      "1b42849c9ab6444db76fbb89a4b3f3e3",
      "b8a23773d4c44c59acc0f8702e7844da",
      "9fada2eb936c48e6ba3b9c7a210d1348",
      "0044d29582be460a82b089001b5f0d0e",
      "e94572ca56fe46b7834bbaf94419174b",
      "89386e49c07c41229df6d3e94179e3ee",
      "04b609efde5d4d77bfc6c06c2ae025d2",
      "eb56a136a897451e9617ae983befbe48",
      "ad0f4d51ba8a4823bdc3bba869b10a60",
      "4f233e2da01643f9ab638ce65612bccc",
      "3a95c8a6597e458691d1d39becd826a4",
      "2a07dc220c034598ba9edba173a7104b",
      "a74ad1c2dfe143bd8279b918420949aa",
      "05f085d6b7f842f3a929d468b781f81f",
      "8b26086263d845ef833e019617098295",
      "9409eabaf60b45e5a543ae6fd0a3c443",
      "eab51794af904c1d9f5b166aab9a0f52",
      "52c4d3eef7854d8ca5e30126ebafdc57",
      "24b4a8d0c8714467b7535c89a2e77a13",
      "a99b2d0e60664ead9ca922c4ee901fa1",
      "9fd98edbe36848228bc74820ffcb8a46",
      "4858f3ed7ce1485db69b1c0149705c8f",
      "955cfc87418544208489f211c03a0fe3",
      "6c5e4a4d41234c779acc2828f01574b3",
      "5e87ebe9143b46759a3763ccddb86865",
      "d77140f11bc84c0f8075d45a69fb60a4",
      "c9509600b54d490d8bdd8d85077241b0",
      "4dc1dd1b027a45b3bcce0afd8e974d6c",
      "9bc2874400ed4a1d9444ced08401919f",
      "74fe997ba45e462d830e61c2a4a490e1",
      "76072740d02e4538a72e6063e1cfaf20",
      "aa03ad91cf1343bdb4594d0a04e203f1",
      "50e66e08a47d41109035fd57beb7ff57"
     ]
    },
    "id": "1VBTSlVlReDN",
    "outputId": "2f4b8900-7b13-49b3-dec9-a706ab83d058"
   },
   "outputs": [
    {
     "data": {
      "application/vnd.jupyter.widget-view+json": {
       "model_id": "2fb69ecc64e2452b9cd5132c2238dfcb",
       "version_major": 2,
       "version_minor": 0
      },
      "text/plain": [
       "tokenizer_config.json:   0%|          | 0.00/2.32k [00:00<?, ?B/s]"
      ]
     },
     "metadata": {},
     "output_type": "display_data"
    },
    {
     "data": {
      "application/vnd.jupyter.widget-view+json": {
       "model_id": "d28d23cde853460eaaa9c936306d121e",
       "version_major": 2,
       "version_minor": 0
      },
      "text/plain": [
       "spiece.model:   0%|          | 0.00/792k [00:00<?, ?B/s]"
      ]
     },
     "metadata": {},
     "output_type": "display_data"
    },
    {
     "data": {
      "application/vnd.jupyter.widget-view+json": {
       "model_id": "3e93f0403be64883890dd0bd8b64eb7c",
       "version_major": 2,
       "version_minor": 0
      },
      "text/plain": [
       "tokenizer.json:   0%|          | 0.00/1.39M [00:00<?, ?B/s]"
      ]
     },
     "metadata": {},
     "output_type": "display_data"
    },
    {
     "name": "stderr",
     "output_type": "stream",
     "text": [
      "You are using the default legacy behaviour of the <class 'transformers.models.t5.tokenization_t5.T5Tokenizer'>. This is expected, and simply means that the `legacy` (previous) behavior will be used so nothing changes for you. If you want to use the new behaviour, set `legacy=False`. This should only be set if you understand what it means, and thoroughly read the reason why this was added as explained in https://github.com/huggingface/transformers/pull/24565\n"
     ]
    },
    {
     "data": {
      "application/vnd.jupyter.widget-view+json": {
       "model_id": "1b42849c9ab6444db76fbb89a4b3f3e3",
       "version_major": 2,
       "version_minor": 0
      },
      "text/plain": [
       "config.json:   0%|          | 0.00/1.21k [00:00<?, ?B/s]"
      ]
     },
     "metadata": {},
     "output_type": "display_data"
    },
    {
     "data": {
      "application/vnd.jupyter.widget-view+json": {
       "model_id": "2a07dc220c034598ba9edba173a7104b",
       "version_major": 2,
       "version_minor": 0
      },
      "text/plain": [
       "model.safetensors:   0%|          | 0.00/242M [00:00<?, ?B/s]"
      ]
     },
     "metadata": {},
     "output_type": "display_data"
    },
    {
     "data": {
      "application/vnd.jupyter.widget-view+json": {
       "model_id": "955cfc87418544208489f211c03a0fe3",
       "version_major": 2,
       "version_minor": 0
      },
      "text/plain": [
       "generation_config.json:   0%|          | 0.00/147 [00:00<?, ?B/s]"
      ]
     },
     "metadata": {},
     "output_type": "display_data"
    }
   ],
   "source": [
    "model_name = \"t5-small\"  # You can use \"t5-base\" or \"t5-large\" too\n",
    "tokenizer = T5Tokenizer.from_pretrained(model_name)\n",
    "model = T5ForConditionalGeneration.from_pretrained(model_name)"
   ]
  },
  {
   "cell_type": "code",
   "execution_count": 19,
   "metadata": {
    "id": "T7UnNn7KRjZB"
   },
   "outputs": [],
   "source": []
  },
  {
   "cell_type": "markdown",
   "metadata": {
    "id": "yay6yg9KRmdp"
   },
   "source": [
    "| Model                 | Size                                  | Use Case               |\n",
    "| --------------------- | ------------------------------------- | ---------------------- |\n",
    "| `t5-small`            | \\~60M                                 | Fast and light         |\n",
    "| `t5-base`             | \\~220M                                | Balanced performance   |\n",
    "| `t5-large`            | \\~770M                                | High quality summaries |\n",
    "| `google/flan-t5-base` | Fine-tuned version (better zero-shot) |                        |\n"
   ]
  },
  {
   "cell_type": "code",
   "execution_count": 20,
   "metadata": {
    "id": "x6ATFrBPRrGM"
   },
   "outputs": [],
   "source": [
    "text = article.text\n",
    "# Turn text into numbers the model can understand\n",
    "inputs = tokenizer(text, return_tensors=\"pt\", max_length=1024, truncation=True)\n",
    "\n",
    "# Let the model generate summary tokens (words)\n",
    "summary_ids = model.generate(\n",
    "    inputs.input_ids,\n",
    "    max_length=150,   # don't go over 100 words\n",
    "    min_length=20,    # generate at least 20 words\n",
    "    num_beams=4,      # try 4 different options, choose best\n",
    "    early_stopping=True  # stop if it's done early\n",
    ")\n",
    "\n",
    "# Convert the model's output back to human-readable text\n",
    "summary = tokenizer.decode(summary_ids[0], skip_special_tokens=True)\n"
   ]
  },
  {
   "cell_type": "code",
   "execution_count": 21,
   "metadata": {
    "colab": {
     "base_uri": "https://localhost:8080/",
     "height": 53
    },
    "id": "rd9Px1YPR6ZT",
    "outputId": "426664b9-c0c9-4ad5-b571-bd85a670c80a"
   },
   "outputs": [
    {
     "data": {
      "application/vnd.google.colaboratory.intrinsic+json": {
       "type": "string"
      },
      "text/plain": [
       "'Shubhanshu Shukla is the designated pilot for the Axiom-4 mission to the International Space Station. Shukla was seen shuffling and shaking his legs as he waited, and exulted mildly.'"
      ]
     },
     "execution_count": 21,
     "metadata": {},
     "output_type": "execute_result"
    }
   ],
   "source": [
    "summary"
   ]
  },
  {
   "cell_type": "code",
   "execution_count": 22,
   "metadata": {
    "colab": {
     "base_uri": "https://localhost:8080/",
     "height": 105
    },
    "id": "Vaf2epwSSDYv",
    "outputId": "c3a83f79-53c7-44f4-d96f-5266a7ffa317"
   },
   "outputs": [
    {
     "data": {
      "application/vnd.google.colaboratory.intrinsic+json": {
       "type": "string"
      },
      "text/plain": [
       "'Group Captain Shubhanshu Shukla embarked on the most consequential flight of his life Wednesday, taking off, along with three others, in the Axiom-4 mission to the International Space Station.\\nSpaceX Falcon 9 rocket with the Crew Dragon capsule carrying Indian astronaut Shubhanshu Shukla and three others lifts off from the launch pad at the Kennedy Space Centre, in Florida, USA.\\nThis journey to the International Space Station is not my alone, this is the beginning of Bharat’s human spaceflight programme,” Shukla said, addressing his countrymen in Hindi.\\nThe Indian Astronaut, Group Captain Shubhanshu Shukla is on the way to become the first Indian to go to the International Space Station.\\nNASA offered access to its facilities, including the International Space Station, and training to the astronauts.'"
      ]
     },
     "execution_count": 22,
     "metadata": {},
     "output_type": "execute_result"
    }
   ],
   "source": [
    "article.summary"
   ]
  },
  {
   "cell_type": "markdown",
   "metadata": {
    "id": "MeAtWkuczgQt"
   },
   "source": [
    "# **sentiment analysis**"
   ]
  },
  {
   "cell_type": "code",
   "execution_count": 23,
   "metadata": {
    "id": "DaN3QthdSQ2U"
   },
   "outputs": [],
   "source": [
    "from textblob import TextBlob"
   ]
  },
  {
   "cell_type": "code",
   "execution_count": 24,
   "metadata": {
    "id": "h9ZSUeqjz6mz"
   },
   "outputs": [],
   "source": [
    "analysis = TextBlob(article.text)"
   ]
  },
  {
   "cell_type": "code",
   "execution_count": 25,
   "metadata": {
    "colab": {
     "base_uri": "https://localhost:8080/"
    },
    "id": "BNi52TSM1-zB",
    "outputId": "18e45521-9e30-4754-eae9-e5477688ebcd"
   },
   "outputs": [
    {
     "name": "stdout",
     "output_type": "stream",
     "text": [
      "Sentiment(polarity=0.1422946647946648, subjectivity=0.37212949962949954)\n"
     ]
    }
   ],
   "source": [
    "print(analysis.sentiment)"
   ]
  },
  {
   "cell_type": "code",
   "execution_count": 26,
   "metadata": {
    "colab": {
     "base_uri": "https://localhost:8080/"
    },
    "id": "H255H63t2GUh",
    "outputId": "8c760787-9f6b-43f0-d322-531a8c2d0044"
   },
   "outputs": [
    {
     "name": "stdout",
     "output_type": "stream",
     "text": [
      "0.1422946647946648\n"
     ]
    }
   ],
   "source": [
    "print(analysis.polarity)"
   ]
  },
  {
   "cell_type": "code",
   "execution_count": 27,
   "metadata": {
    "colab": {
     "base_uri": "https://localhost:8080/"
    },
    "id": "5rj2T1C52JwY",
    "outputId": "6ff5839d-6092-4c8a-f1fe-209c0ea59c79"
   },
   "outputs": [
    {
     "name": "stdout",
     "output_type": "stream",
     "text": [
      "Polarity: Positive\n"
     ]
    }
   ],
   "source": [
    "print(f\"Polarity: {'Positive' if analysis.polarity > 0 else 'negative' if analysis.polarity < 0 else 'nural'}\" )"
   ]
  },
  {
   "cell_type": "markdown",
   "metadata": {
    "id": "cgbGZiE46UD-"
   },
   "source": [
    "## **sentiment analysis USING nltk with VADER**\n",
    "We will use NLTK's SentimentIntensityAnalyzer to get the neg/neu/pos scores of the text.\n",
    "- This uses a \"bag of words\" approach:\n",
    "1. Stop words are removed\n",
    "2. each word is scored and combined to a total score."
   ]
  },
  {
   "cell_type": "code",
   "execution_count": 32,
   "metadata": {
    "id": "VJbTFfRP2tco"
   },
   "outputs": [],
   "source": [
    "tokens = nltk.word_tokenize(article.text)"
   ]
  },
  {
   "cell_type": "code",
   "execution_count": 33,
   "metadata": {
    "colab": {
     "base_uri": "https://localhost:8080/"
    },
    "id": "5LlrXOrD61HQ",
    "outputId": "cc2187ec-dc85-4145-cb3b-51291f87ee2f"
   },
   "outputs": [
    {
     "data": {
      "text/plain": [
       "['Group',\n",
       " 'Captain',\n",
       " 'Shubhanshu',\n",
       " 'Shukla',\n",
       " 'embarked',\n",
       " 'on',\n",
       " 'the',\n",
       " 'most',\n",
       " 'consequential',\n",
       " 'flight']"
      ]
     },
     "execution_count": 33,
     "metadata": {},
     "output_type": "execute_result"
    }
   ],
   "source": [
    "tokens[:10]"
   ]
  },
  {
   "cell_type": "markdown",
   "metadata": {
    "id": "SsrNvwFr89mo"
   },
   "source": [
    "learn about what is pos_tags - https://www.geeksforgeeks.org/python/part-speech-tagging-stop-words-using-nltk-python/"
   ]
  },
  {
   "cell_type": "code",
   "execution_count": 40,
   "metadata": {
    "colab": {
     "base_uri": "https://localhost:8080/"
    },
    "id": "oBKGkUHa7bHu",
    "outputId": "e711a6b3-5e35-4f04-fa4c-f35625cf858e"
   },
   "outputs": [
    {
     "name": "stderr",
     "output_type": "stream",
     "text": [
      "[nltk_data] Downloading package averaged_perceptron_tagger_eng to\n",
      "[nltk_data]     /root/nltk_data...\n",
      "[nltk_data]   Package averaged_perceptron_tagger_eng is already up-to-\n",
      "[nltk_data]       date!\n"
     ]
    }
   ],
   "source": [
    "nltk.download('averaged_perceptron_tagger_eng')\n",
    "posTags = nltk.pos_tag(tokens)"
   ]
  },
  {
   "cell_type": "code",
   "execution_count": 42,
   "metadata": {
    "colab": {
     "base_uri": "https://localhost:8080/"
    },
    "id": "xxxKFFki7tkZ",
    "outputId": "0ab75ad1-b038-4b78-de15-5f428afe7ca2"
   },
   "outputs": [
    {
     "data": {
      "text/plain": [
       "[('Group', 'NNP'),\n",
       " ('Captain', 'NNP'),\n",
       " ('Shubhanshu', 'NNP'),\n",
       " ('Shukla', 'NNP'),\n",
       " ('embarked', 'VBD'),\n",
       " ('on', 'IN'),\n",
       " ('the', 'DT'),\n",
       " ('most', 'RBS'),\n",
       " ('consequential', 'JJ'),\n",
       " ('flight', 'NN')]"
      ]
     },
     "execution_count": 42,
     "metadata": {},
     "output_type": "execute_result"
    }
   ],
   "source": [
    "posTags[:10]"
   ]
  },
  {
   "cell_type": "code",
   "execution_count": 45,
   "metadata": {
    "colab": {
     "base_uri": "https://localhost:8080/"
    },
    "id": "9WJ0BCzB8BoV",
    "outputId": "46366b56-808c-4fdf-8065-e03fafca9fc6"
   },
   "outputs": [
    {
     "name": "stderr",
     "output_type": "stream",
     "text": [
      "[nltk_data] Downloading package vader_lexicon to /root/nltk_data...\n"
     ]
    },
    {
     "data": {
      "text/plain": [
       "True"
      ]
     },
     "execution_count": 45,
     "metadata": {},
     "output_type": "execute_result"
    }
   ],
   "source": [
    "from nltk.sentiment import SentimentIntensityAnalyzer\n",
    "nltk.download('vader_lexicon')"
   ]
  },
  {
   "cell_type": "code",
   "execution_count": 46,
   "metadata": {
    "id": "9dwuehoLFjOA"
   },
   "outputs": [],
   "source": [
    "sao = SentimentIntensityAnalyzer()"
   ]
  },
  {
   "cell_type": "code",
   "execution_count": 47,
   "metadata": {
    "colab": {
     "base_uri": "https://localhost:8080/"
    },
    "id": "5XWql5n-Fmum",
    "outputId": "45a6c80d-d03b-4e29-9eea-937047e6be37"
   },
   "outputs": [
    {
     "data": {
      "text/plain": [
       "<nltk.sentiment.vader.SentimentIntensityAnalyzer at 0x78ef3eda8090>"
      ]
     },
     "execution_count": 47,
     "metadata": {},
     "output_type": "execute_result"
    }
   ],
   "source": [
    "sao"
   ]
  },
  {
   "cell_type": "code",
   "execution_count": 49,
   "metadata": {
    "colab": {
     "base_uri": "https://localhost:8080/"
    },
    "id": "nHDDHcxfFs9t",
    "outputId": "56714735-0968-4add-eee3-ab1594b3e546"
   },
   "outputs": [
    {
     "data": {
      "text/plain": [
       "{'neg': 0.014, 'neu': 0.929, 'pos': 0.057, 'compound': 0.9893}"
      ]
     },
     "execution_count": 49,
     "metadata": {},
     "output_type": "execute_result"
    }
   ],
   "source": [
    "sao.polarity_scores(article.text)"
   ]
  },
  {
   "cell_type": "code",
   "execution_count": 52,
   "metadata": {
    "colab": {
     "base_uri": "https://localhost:8080/"
    },
    "id": "GvnwKowuGEYt",
    "outputId": "3cd2709b-26fc-47ef-c67b-53c1f09c38b5"
   },
   "outputs": [
    {
     "data": {
      "text/plain": [
       "0.1422946647946648"
      ]
     },
     "execution_count": 52,
     "metadata": {},
     "output_type": "execute_result"
    }
   ],
   "source": [
    "analysis.polarity"
   ]
  },
  {
   "cell_type": "code",
   "execution_count": null,
   "metadata": {
    "id": "o2V6iDM8GOk5"
   },
   "outputs": [],
   "source": []
  }
 ],
 "metadata": {
  "colab": {
   "provenance": []
  },
  "kernelspec": {
   "display_name": "Python 3",
   "name": "python3"
  },
  "language_info": {
   "name": "python"
  }
 },
 "nbformat": 4,
 "nbformat_minor": 0
}
